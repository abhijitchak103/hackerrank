{
  "nbformat": 4,
  "nbformat_minor": 0,
  "metadata": {
    "colab": {
      "provenance": [],
      "authorship_tag": "ABX9TyNsRjKz6F2UyfNkPYxEwb++",
      "include_colab_link": true
    },
    "kernelspec": {
      "name": "python3",
      "display_name": "Python 3"
    },
    "language_info": {
      "name": "python"
    }
  },
  "cells": [
    {
      "cell_type": "markdown",
      "metadata": {
        "id": "view-in-github",
        "colab_type": "text"
      },
      "source": [
        "<a href=\"https://colab.research.google.com/github/abhijitchak103/hackerrank/blob/main/String_split_and_join.ipynb\" target=\"_parent\"><img src=\"https://colab.research.google.com/assets/colab-badge.svg\" alt=\"Open In Colab\"/></a>"
      ]
    },
    {
      "cell_type": "markdown",
      "source": [
        "In Python, a string can be split on a delimiter.\n",
        "\n",
        "**Function Description**\n",
        "\n",
        "Complete the split_and_join function.\n",
        "\n",
        "split_and_join has the following parameters:\n",
        "\n",
        "- string line: a string of space-separated words\n",
        "\n",
        "**Returns**\n",
        "\n",
        "- string: the resulting string\n",
        "\n",
        "**Input Format**\n",
        "\n",
        "The one line contains a string consisting of space separated words."
      ],
      "metadata": {
        "id": "t9AuyG6Rk8v-"
      }
    },
    {
      "cell_type": "code",
      "execution_count": 1,
      "metadata": {
        "colab": {
          "base_uri": "https://localhost:8080/"
        },
        "id": "U3DTE5T8kwtW",
        "outputId": "ee1e998e-bb06-40a7-ad1e-7b685575fd99"
      },
      "outputs": [
        {
          "output_type": "stream",
          "name": "stdout",
          "text": [
            "I am Abhijit\n",
            "I-am-Abhijit\n"
          ]
        }
      ],
      "source": [
        "def split_and_join(line):\n",
        "    # write your code here\n",
        "    a = line.split(\" \")\n",
        "    a = \"-\".join(a)\n",
        "    return a\n",
        "\n",
        "if __name__ == '__main__':\n",
        "    line = input()\n",
        "    result = split_and_join(line)\n",
        "    print(result)"
      ]
    },
    {
      "cell_type": "code",
      "source": [],
      "metadata": {
        "id": "KsdpZN82l-94"
      },
      "execution_count": null,
      "outputs": []
    }
  ]
}
